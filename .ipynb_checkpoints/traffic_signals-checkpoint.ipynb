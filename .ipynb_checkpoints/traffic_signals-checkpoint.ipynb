{
 "cells": [
  {
   "cell_type": "code",
   "execution_count": 48,
   "metadata": {},
   "outputs": [],
   "source": [
    "import tensorflow.compat.v1 as tf\n",
    "tf.disable_v2_behavior()\n",
    "import numpy as no\n",
    "\n",
    "import numpy as np\n",
    "import pandas as pd\n",
    "import matplotlib.pyplot as plt\n",
    "%matplotlib inline \n",
    "\n",
    "import seaborn as sns\n",
    "import os, sys\n",
    "import tensorflow.compat.v1 as tf\n",
    "from skimage import transform\n",
    "from skimage import data"
   ]
  },
  {
   "cell_type": "code",
   "execution_count": 54,
   "metadata": {},
   "outputs": [],
   "source": [
    "def load_data(data_directory):\n",
    "    directories = [d for d in os.listdir(data_directory) \n",
    "                   if os.path.isdir(os.path.join(data_directory, d))]\n",
    "    labels = []\n",
    "    images = []\n",
    "    for d in directories:\n",
    "        label_directory = os.path.join(data_directory, d)\n",
    "        file_names = [os.path.join(label_directory, f) \n",
    "                      for f in os.listdir(label_directory) \n",
    "                      if f.endswith(\".ppm\")]\n",
    "        print(file_names)\n",
    "        for f in file_names:\n",
    "            images.append(data.imread(f))\n",
    "            labels.append(int(d))\n",
    "    return images, labels"
   ]
  },
  {
   "cell_type": "code",
   "execution_count": 60,
   "metadata": {},
   "outputs": [
    {
     "name": "stdout",
     "output_type": "stream",
     "text": [
      "data/BelgiumTSC_Training/Training\\00000\\01153_00000.ppm\n"
     ]
    },
    {
     "ename": "AttributeError",
     "evalue": "module 'skimage.data' has no attribute 'imread'",
     "output_type": "error",
     "traceback": [
      "\u001b[1;31m---------------------------------------------------------------------------\u001b[0m",
      "\u001b[1;31mAttributeError\u001b[0m                            Traceback (most recent call last)",
      "\u001b[1;32m<ipython-input-60-7cf798893b08>\u001b[0m in \u001b[0;36m<module>\u001b[1;34m\u001b[0m\n\u001b[0;32m     14\u001b[0m     \u001b[1;32mfor\u001b[0m \u001b[0mf\u001b[0m \u001b[1;32min\u001b[0m \u001b[0mfile_names\u001b[0m\u001b[1;33m:\u001b[0m\u001b[1;33m\u001b[0m\u001b[1;33m\u001b[0m\u001b[0m\n\u001b[0;32m     15\u001b[0m         \u001b[0mprint\u001b[0m\u001b[1;33m(\u001b[0m\u001b[0mf\u001b[0m\u001b[1;33m)\u001b[0m\u001b[1;33m\u001b[0m\u001b[1;33m\u001b[0m\u001b[0m\n\u001b[1;32m---> 16\u001b[1;33m         \u001b[0mimages\u001b[0m\u001b[1;33m.\u001b[0m\u001b[0mappend\u001b[0m\u001b[1;33m(\u001b[0m\u001b[0mdata\u001b[0m\u001b[1;33m.\u001b[0m\u001b[0mimread\u001b[0m\u001b[1;33m(\u001b[0m\u001b[0mf\u001b[0m\u001b[1;33m)\u001b[0m\u001b[1;33m)\u001b[0m\u001b[1;33m\u001b[0m\u001b[1;33m\u001b[0m\u001b[0m\n\u001b[0m",
      "\u001b[1;31mAttributeError\u001b[0m: module 'skimage.data' has no attribute 'imread'"
     ]
    }
   ],
   "source": [
    "train_data_directory = \"data/BelgiumTSC_Training/Training\"\n",
    "#images, labels = load_data(train_data_directory)\n",
    "\n",
    "directories = [d for d in os.listdir(data_directory) \n",
    "                   if os.path.isdir(os.path.join(data_directory, d))]\n",
    "labels = []\n",
    "images = []\n",
    "for d in directories:\n",
    "    label_directory = os.path.join(data_directory, d)\n",
    "    file_names = [os.path.join(label_directory, f) \n",
    "                  for f in os.listdir(label_directory) \n",
    "                  if f.endswith(\".ppm\")]\n",
    "    #print(file_names)\n",
    "    for f in file_names:\n",
    "        print(f)\n",
    "        images.append(data.imread(f))"
   ]
  },
  {
   "cell_type": "code",
   "execution_count": null,
   "metadata": {},
   "outputs": [],
   "source": []
  },
  {
   "cell_type": "code",
   "execution_count": 19,
   "metadata": {},
   "outputs": [
    {
     "ename": "FileNotFoundError",
     "evalue": "[WinError 3] The system cannot find the path specified: '\\\\data\\\\BelgiumTSC_Testing\\\\Testing'",
     "output_type": "error",
     "traceback": [
      "\u001b[1;31m---------------------------------------------------------------------------\u001b[0m",
      "\u001b[1;31mFileNotFoundError\u001b[0m                         Traceback (most recent call last)",
      "\u001b[1;32m<ipython-input-19-db5e8f0f795e>\u001b[0m in \u001b[0;36m<module>\u001b[1;34m\u001b[0m\n\u001b[0;32m      1\u001b[0m \u001b[0mdata_directory\u001b[0m \u001b[1;33m=\u001b[0m \u001b[1;34m\"\\data\\BelgiumTSC_Testing\\Testing\"\u001b[0m\u001b[1;33m\u001b[0m\u001b[1;33m\u001b[0m\u001b[0m\n\u001b[1;32m----> 2\u001b[1;33m \u001b[0mdirectories\u001b[0m \u001b[1;33m=\u001b[0m \u001b[1;33m[\u001b[0m\u001b[0md\u001b[0m \u001b[1;32mfor\u001b[0m \u001b[0md\u001b[0m \u001b[1;32min\u001b[0m \u001b[0mos\u001b[0m\u001b[1;33m.\u001b[0m\u001b[0mlistdir\u001b[0m\u001b[1;33m(\u001b[0m\u001b[0mdata_directory\u001b[0m\u001b[1;33m)\u001b[0m \u001b[1;32mif\u001b[0m \u001b[0mos\u001b[0m\u001b[1;33m.\u001b[0m\u001b[0mpath\u001b[0m\u001b[1;33m.\u001b[0m\u001b[0misdir\u001b[0m\u001b[1;33m(\u001b[0m\u001b[0mos\u001b[0m\u001b[1;33m.\u001b[0m\u001b[0mpath\u001b[0m\u001b[1;33m.\u001b[0m\u001b[0mjoin\u001b[0m\u001b[1;33m(\u001b[0m\u001b[0mdata_directory\u001b[0m\u001b[1;33m,\u001b[0m \u001b[0md\u001b[0m\u001b[1;33m)\u001b[0m\u001b[1;33m)\u001b[0m\u001b[1;33m]\u001b[0m\u001b[1;33m\u001b[0m\u001b[1;33m\u001b[0m\u001b[0m\n\u001b[0m",
      "\u001b[1;31mFileNotFoundError\u001b[0m: [WinError 3] The system cannot find the path specified: '\\\\data\\\\BelgiumTSC_Testing\\\\Testing'"
     ]
    }
   ],
   "source": []
  },
  {
   "cell_type": "code",
   "execution_count": 39,
   "metadata": {},
   "outputs": [
    {
     "data": {
      "text/plain": [
       "['00000',\n",
       " '00001',\n",
       " '00002',\n",
       " '00003',\n",
       " '00004',\n",
       " '00005',\n",
       " '00006',\n",
       " '00007',\n",
       " '00008',\n",
       " '00009',\n",
       " '00010',\n",
       " '00011',\n",
       " '00012',\n",
       " '00013',\n",
       " '00014',\n",
       " '00015',\n",
       " '00016',\n",
       " '00017',\n",
       " '00018',\n",
       " '00019',\n",
       " '00020',\n",
       " '00021',\n",
       " '00022',\n",
       " '00023',\n",
       " '00024',\n",
       " '00025',\n",
       " '00026',\n",
       " '00027',\n",
       " '00028',\n",
       " '00029',\n",
       " '00030',\n",
       " '00031',\n",
       " '00032',\n",
       " '00033',\n",
       " '00034',\n",
       " '00035',\n",
       " '00036',\n",
       " '00037',\n",
       " '00038',\n",
       " '00039',\n",
       " '00040',\n",
       " '00041',\n",
       " '00042',\n",
       " '00043',\n",
       " '00044',\n",
       " '00045',\n",
       " '00046',\n",
       " '00047',\n",
       " '00048',\n",
       " '00049',\n",
       " '00050',\n",
       " '00051',\n",
       " '00052',\n",
       " '00053',\n",
       " '00054',\n",
       " '00055',\n",
       " '00056',\n",
       " '00057',\n",
       " '00058',\n",
       " '00059',\n",
       " '00060',\n",
       " '00061',\n",
       " 'Readme.txt']"
      ]
     },
     "execution_count": 39,
     "metadata": {},
     "output_type": "execute_result"
    }
   ],
   "source": [
    "data_directory = \"data/BelgiumTSC_Testing/Testing\"\n",
    "#data_directory = \"data\"\n",
    "os.listdir(data_directory)"
   ]
  },
  {
   "cell_type": "code",
   "execution_count": 36,
   "metadata": {},
   "outputs": [
    {
     "name": "stdout",
     "output_type": "stream",
     "text": [
      " Volume in drive C is Windows\n",
      " Volume Serial Number is C2AA-54D0\n",
      "\n",
      " Directory of C:\\Users\\sidha\\Desktop\\belgian_traffic_signal_tf\n",
      "\n",
      "05/22/2020  02:03 PM    <DIR>          .\n",
      "05/22/2020  02:03 PM    <DIR>          ..\n",
      "05/22/2020  12:12 PM    <DIR>          .ipynb_checkpoints\n",
      "05/22/2020  12:37 PM    <DIR>          data\n",
      "05/22/2020  02:03 PM            10,583 traffic_signals.ipynb\n",
      "               1 File(s)         10,583 bytes\n",
      "               4 Dir(s)  792,037,191,680 bytes free\n"
     ]
    }
   ],
   "source": [
    "ls"
   ]
  },
  {
   "cell_type": "code",
   "execution_count": 32,
   "metadata": {},
   "outputs": [
    {
     "ename": "FileNotFoundError",
     "evalue": "[WinError 3] The system cannot find the path specified: '/data/BelgiumTSC_Testing/Testing'",
     "output_type": "error",
     "traceback": [
      "\u001b[1;31m---------------------------------------------------------------------------\u001b[0m",
      "\u001b[1;31mFileNotFoundError\u001b[0m                         Traceback (most recent call last)",
      "\u001b[1;32m<ipython-input-32-dd28c8a20613>\u001b[0m in \u001b[0;36m<module>\u001b[1;34m\u001b[0m\n\u001b[1;32m----> 1\u001b[1;33m \u001b[0mos\u001b[0m\u001b[1;33m.\u001b[0m\u001b[0mlistdir\u001b[0m\u001b[1;33m(\u001b[0m\u001b[1;34m\"/data/BelgiumTSC_Testing/Testing\"\u001b[0m\u001b[1;33m)\u001b[0m\u001b[1;33m\u001b[0m\u001b[1;33m\u001b[0m\u001b[0m\n\u001b[0m",
      "\u001b[1;31mFileNotFoundError\u001b[0m: [WinError 3] The system cannot find the path specified: '/data/BelgiumTSC_Testing/Testing'"
     ]
    }
   ],
   "source": [
    "os.listdir(\"/data/BelgiumTSC_Testing/Testing\")"
   ]
  },
  {
   "cell_type": "code",
   "execution_count": null,
   "metadata": {},
   "outputs": [],
   "source": []
  }
 ],
 "metadata": {
  "kernelspec": {
   "display_name": "Python 3",
   "language": "python",
   "name": "python3"
  },
  "language_info": {
   "codemirror_mode": {
    "name": "ipython",
    "version": 3
   },
   "file_extension": ".py",
   "mimetype": "text/x-python",
   "name": "python",
   "nbconvert_exporter": "python",
   "pygments_lexer": "ipython3",
   "version": "3.7.4"
  }
 },
 "nbformat": 4,
 "nbformat_minor": 2
}
